{
 "cells": [
  {
   "cell_type": "code",
   "execution_count": 1,
   "metadata": {},
   "outputs": [],
   "source": [
    "import numpy as np\n",
    "import matplotlib.pyplot as plt\n",
    "import gym\n",
    "env = gym.make('CartPole-v0')\n",
    "observation = env.reset()"
   ]
  },
  {
   "cell_type": "code",
   "execution_count": 20,
   "metadata": {},
   "outputs": [
    {
     "data": {
      "text/plain": [
       "23.0"
      ]
     },
     "execution_count": 20,
     "metadata": {},
     "output_type": "execute_result"
    }
   ],
   "source": [
    "parameters = np.random.rand(4) * 2 - 1 \n",
    "\n",
    "def run_episode(env, parameters):  \n",
    "    observation = env.reset()\n",
    "    totalreward = 0\n",
    "    while True:\n",
    "\n",
    "        action = 0 if np.matmul(parameters, observation) < 0 else 1\n",
    "        observation, reward, done, info = env.step(action)\n",
    "        totalreward += reward\n",
    "        if done:\n",
    "            break\n",
    "    return totalreward\n",
    "\n",
    "run_episode(env, parameters)"
   ]
  },
  {
   "cell_type": "markdown",
   "metadata": {},
   "source": [
    "### Random search"
   ]
  },
  {
   "cell_type": "code",
   "execution_count": 27,
   "metadata": {},
   "outputs": [],
   "source": [
    "bestparams = None  \n",
    "bestreward = 0  \n",
    "\n",
    "\n",
    "for _ in range(10000):  \n",
    "    parameters = np.random.rand(4) * 2 - 1\n",
    "    reward = run_episode(env, parameters)\n",
    "    if reward > bestreward:\n",
    "        bestreward = reward\n",
    "        bestparams = parameters\n",
    "        # considered solved if the agent lasts 200 timesteps\n",
    "        if reward == 200:\n",
    "            break"
   ]
  },
  {
   "cell_type": "markdown",
   "metadata": {},
   "source": [
    "### Hill climbing algorithm"
   ]
  },
  {
   "cell_type": "code",
   "execution_count": 64,
   "metadata": {},
   "outputs": [],
   "source": [
    "noise_scaling = 0.1  \n",
    "parameters = np.random.rand(4) * 2 - 1  \n",
    "bestreward = 0  \n",
    "for _ in range(10000):  \n",
    "    newparams = parameters + (np.random.rand(4) * 2 - 1)*noise_scaling\n",
    "    reward = 0\n",
    "    run = run_episode(env,newparams)\n",
    "    if reward > bestreward:\n",
    "        bestreward = reward\n",
    "        parameters = newparams\n",
    "        if reward == 200:\n",
    "            break"
   ]
  },
  {
   "cell_type": "markdown",
   "metadata": {},
   "source": [
    "### Policy gradient"
   ]
  },
  {
   "cell_type": "code",
   "execution_count": 44,
   "metadata": {},
   "outputs": [],
   "source": [
    "import torch\n",
    "import torch.nn as nn\n",
    "import torch.nn.functional as F\n",
    "from torch.distributions import Bernoulli\n",
    "from torch.autograd import Variable\n",
    "from itertools import count\n",
    "import matplotlib.pyplot as plt\n",
    "import numpy as np\n",
    "import gym\n",
    "import pdb\n",
    "\n",
    "\n",
    "class PolicyNet(nn.Module):\n",
    "    def __init__(self):\n",
    "        super(PolicyNet, self).__init__()\n",
    "        self.fc1 = nn.Linear(4, 1)\n",
    "     \n",
    "    def forward(self, x):\n",
    "        x = F.sigmoid(self.fc1(x))\n",
    "        return x\n"
   ]
  },
  {
   "cell_type": "code",
   "execution_count": 27,
   "metadata": {},
   "outputs": [],
   "source": [
    "episode_durations = []\n",
    "def plot_durations():\n",
    "    plt.figure(2)\n",
    "    plt.clf()\n",
    "    durations_t = torch.FloatTensor(episode_durations)\n",
    "    plt.title('Training...')\n",
    "    plt.xlabel('Episode')\n",
    "    plt.ylabel('Duration')\n",
    "    plt.plot(durations_t.numpy())\n",
    "    # Take 100 episode averages and plot them too\n",
    "    if len(durations_t) >= 100:\n",
    "        means = durations_t.unfold(0, 100, 1).mean(1).view(-1)\n",
    "        means = torch.cat((torch.zeros(99), means))\n",
    "        plt.plot(means.numpy())\n",
    "\n",
    "    plt.pause(0.001)  # pause a bit so that plots are updated\n",
    "\n",
    "# Parameters\n",
    "num_episode = 5000\n",
    "batch_size = 5\n",
    "learning_rate = 0.01\n",
    "gamma = 0.99\n",
    "\n",
    "env = gym.make('CartPole-v0')\n",
    "policy_net = PolicyNet()\n",
    "optimizer = torch.optim.Adam(policy_net.parameters(), lr=learning_rate)\n",
    "\n",
    "# Batch History\n",
    "state_pool = []\n",
    "action_pool = []\n",
    "reward_pool = []\n",
    "steps = 0"
   ]
  },
  {
   "cell_type": "code",
   "execution_count": 46,
   "metadata": {},
   "outputs": [
    {
     "data": {
      "text/plain": [
       "tensor([0.5119], grad_fn=<SigmoidBackward>)"
      ]
     },
     "execution_count": 46,
     "metadata": {},
     "output_type": "execute_result"
    }
   ],
   "source": [
    "state = env.reset()\n",
    "state = torch.from_numpy(state).float()\n",
    "state = Variable(state)\n",
    "policy_net(state)"
   ]
  },
  {
   "cell_type": "code",
   "execution_count": null,
   "metadata": {},
   "outputs": [],
   "source": [
    "\n"
   ]
  },
  {
   "cell_type": "code",
   "execution_count": 104,
   "metadata": {},
   "outputs": [
    {
     "data": {
      "text/plain": [
       "1"
      ]
     },
     "execution_count": 104,
     "metadata": {},
     "output_type": "execute_result"
    }
   ],
   "source": [
    "probs = policy_net(state)\n",
    "m = Bernoulli(probs)\n",
    "\n",
    "action = m.sample()\n",
    "\n",
    "action = action.data.numpy().astype(int)[0]\n",
    "action"
   ]
  },
  {
   "cell_type": "code",
   "execution_count": 50,
   "metadata": {},
   "outputs": [
    {
     "ename": "IndentationError",
     "evalue": "unindent does not match any outer indentation level (<tokenize>, line 38)",
     "output_type": "error",
     "traceback": [
      "\u001b[0;36m  File \u001b[0;32m\"<tokenize>\"\u001b[0;36m, line \u001b[0;32m38\u001b[0m\n\u001b[0;31m    if e > 0 and e % batch_size == 0:\u001b[0m\n\u001b[0m    ^\u001b[0m\n\u001b[0;31mIndentationError\u001b[0m\u001b[0;31m:\u001b[0m unindent does not match any outer indentation level\n"
     ]
    }
   ],
   "source": [
    "for e in range(num_episode):\n",
    "    state = env.reset()\n",
    "    state = torch.from_numpy(state).float()\n",
    "    state = Variable(state)\n",
    "    # env.render(mode='rgb_array')\n",
    "    \n",
    "    \n",
    "    for t in count():\n",
    "\n",
    "            probs = policy_net(state)\n",
    "            m = Bernoulli(probs)\n",
    "            action = m.sample()\n",
    "        \n",
    "            action = action.data.numpy().astype(int)[0]\n",
    "            next_state, reward, done, _ = env.step(action)\n",
    "            #env.render(mode='rgb_array')\n",
    "\n",
    "            # To mark boundarys between episodes\n",
    "            if done:\n",
    "                reward = 0\n",
    "\n",
    "            state_pool.append(state)\n",
    "            action_pool.append(float(action))\n",
    "            reward_pool.append(reward)\n",
    "\n",
    "            state = next_state\n",
    "            state = torch.from_numpy(state).float()\n",
    "            state = Variable(state)\n",
    "\n",
    "            steps += 1\n",
    "\n",
    "            if done:\n",
    "                episode_durations.append(t + 1)\n",
    "                plot_durations()\n",
    "                break\n",
    "\n",
    "        # Update policy\n",
    "        if e > 0 and e % batch_size == 0:\n",
    "\n",
    "            # Discount reward\n",
    "            running_add = 0\n",
    "            for i in reversed(range(steps)):\n",
    "                if reward_pool[i] == 0:\n",
    "                    running_add = 0\n",
    "                else:\n",
    "                    running_add = running_add * gamma + reward_pool[i]\n",
    "                    reward_pool[i] = running_add\n",
    "\n",
    "            # Normalize reward\n",
    "            reward_mean = np.mean(reward_pool)\n",
    "            reward_std = np.std(reward_pool)\n",
    "            for i in range(steps):\n",
    "                reward_pool[i] = (reward_pool[i] - reward_mean) / reward_std\n",
    "\n",
    "            # Gradient Desent\n",
    "            optimizer.zero_grad()\n",
    "\n",
    "            for i in range(steps):\n",
    "                state = state_pool[i]\n",
    "                action = Variable(torch.FloatTensor([action_pool[i]]))\n",
    "                reward = reward_pool[i]\n",
    "\n",
    "                probs = policy_net(state)\n",
    "                m = Bernoulli(probs)\n",
    "                loss = -m.log_prob(action) * reward  # Negtive score function x reward\n",
    "                loss.backward()\n",
    "\n",
    "            optimizer.step()\n",
    "\n",
    "            state_pool = []\n",
    "            action_pool = []\n",
    "            reward_pool = []\n",
    "            steps = 0\n"
   ]
  }
 ],
 "metadata": {
  "kernelspec": {
   "display_name": "Python 3",
   "language": "python",
   "name": "python3"
  },
  "language_info": {
   "codemirror_mode": {
    "name": "ipython",
    "version": 3
   },
   "file_extension": ".py",
   "mimetype": "text/x-python",
   "name": "python",
   "nbconvert_exporter": "python",
   "pygments_lexer": "ipython3",
   "version": "3.7.3"
  }
 },
 "nbformat": 4,
 "nbformat_minor": 4
}
